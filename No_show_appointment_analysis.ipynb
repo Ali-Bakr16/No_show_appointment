{
 "cells": [
  {
   "cell_type": "markdown",
   "id": "fa9a2988",
   "metadata": {},
   "source": [
    "# Database_No_show_appointments "
   ]
  },
  {
   "cell_type": "markdown",
   "id": "399743c6",
   "metadata": {},
   "source": [
    "## Introduction\n"
   ]
  },
  {
   "cell_type": "markdown",
   "id": "c83b9f83",
   "metadata": {},
   "source": [
    "### Import all the packages I will need."
   ]
  },
  {
   "cell_type": "code",
   "execution_count": 1,
   "id": "996909b4",
   "metadata": {},
   "outputs": [],
   "source": [
    "# Import packages that will used \n",
    "import pandas as pd\n",
    "import numpy as np\n",
    "import matplotlib.pyplot as plt\n",
    "import seaborn as sns\n",
    "%matplotlib inline"
   ]
  },
  {
   "cell_type": "markdown",
   "id": "2e20b489",
   "metadata": {},
   "source": [
    "### Load data csv file and print first five rows \n",
    " Discaver information about the data to analysis it"
   ]
  },
  {
   "cell_type": "code",
   "execution_count": 2,
   "id": "0c9af125",
   "metadata": {},
   "outputs": [
    {
     "data": {
      "text/html": [
       "<div>\n",
       "<style scoped>\n",
       "    .dataframe tbody tr th:only-of-type {\n",
       "        vertical-align: middle;\n",
       "    }\n",
       "\n",
       "    .dataframe tbody tr th {\n",
       "        vertical-align: top;\n",
       "    }\n",
       "\n",
       "    .dataframe thead th {\n",
       "        text-align: right;\n",
       "    }\n",
       "</style>\n",
       "<table border=\"1\" class=\"dataframe\">\n",
       "  <thead>\n",
       "    <tr style=\"text-align: right;\">\n",
       "      <th></th>\n",
       "      <th>PatientId</th>\n",
       "      <th>AppointmentID</th>\n",
       "      <th>Gender</th>\n",
       "      <th>ScheduledDay</th>\n",
       "      <th>AppointmentDay</th>\n",
       "      <th>Age</th>\n",
       "      <th>Neighbourhood</th>\n",
       "      <th>Scholarship</th>\n",
       "      <th>Hipertension</th>\n",
       "      <th>Diabetes</th>\n",
       "      <th>Alcoholism</th>\n",
       "      <th>Handcap</th>\n",
       "      <th>SMS_received</th>\n",
       "      <th>No-show</th>\n",
       "    </tr>\n",
       "  </thead>\n",
       "  <tbody>\n",
       "    <tr>\n",
       "      <th>0</th>\n",
       "      <td>2.987250e+13</td>\n",
       "      <td>5642903</td>\n",
       "      <td>F</td>\n",
       "      <td>2016-04-29T18:38:08Z</td>\n",
       "      <td>2016-04-29T00:00:00Z</td>\n",
       "      <td>62</td>\n",
       "      <td>JARDIM DA PENHA</td>\n",
       "      <td>0</td>\n",
       "      <td>1</td>\n",
       "      <td>0</td>\n",
       "      <td>0</td>\n",
       "      <td>0</td>\n",
       "      <td>0</td>\n",
       "      <td>No</td>\n",
       "    </tr>\n",
       "    <tr>\n",
       "      <th>1</th>\n",
       "      <td>5.589978e+14</td>\n",
       "      <td>5642503</td>\n",
       "      <td>M</td>\n",
       "      <td>2016-04-29T16:08:27Z</td>\n",
       "      <td>2016-04-29T00:00:00Z</td>\n",
       "      <td>56</td>\n",
       "      <td>JARDIM DA PENHA</td>\n",
       "      <td>0</td>\n",
       "      <td>0</td>\n",
       "      <td>0</td>\n",
       "      <td>0</td>\n",
       "      <td>0</td>\n",
       "      <td>0</td>\n",
       "      <td>No</td>\n",
       "    </tr>\n",
       "    <tr>\n",
       "      <th>2</th>\n",
       "      <td>4.262962e+12</td>\n",
       "      <td>5642549</td>\n",
       "      <td>F</td>\n",
       "      <td>2016-04-29T16:19:04Z</td>\n",
       "      <td>2016-04-29T00:00:00Z</td>\n",
       "      <td>62</td>\n",
       "      <td>MATA DA PRAIA</td>\n",
       "      <td>0</td>\n",
       "      <td>0</td>\n",
       "      <td>0</td>\n",
       "      <td>0</td>\n",
       "      <td>0</td>\n",
       "      <td>0</td>\n",
       "      <td>No</td>\n",
       "    </tr>\n",
       "    <tr>\n",
       "      <th>3</th>\n",
       "      <td>8.679512e+11</td>\n",
       "      <td>5642828</td>\n",
       "      <td>F</td>\n",
       "      <td>2016-04-29T17:29:31Z</td>\n",
       "      <td>2016-04-29T00:00:00Z</td>\n",
       "      <td>8</td>\n",
       "      <td>PONTAL DE CAMBURI</td>\n",
       "      <td>0</td>\n",
       "      <td>0</td>\n",
       "      <td>0</td>\n",
       "      <td>0</td>\n",
       "      <td>0</td>\n",
       "      <td>0</td>\n",
       "      <td>No</td>\n",
       "    </tr>\n",
       "    <tr>\n",
       "      <th>4</th>\n",
       "      <td>8.841186e+12</td>\n",
       "      <td>5642494</td>\n",
       "      <td>F</td>\n",
       "      <td>2016-04-29T16:07:23Z</td>\n",
       "      <td>2016-04-29T00:00:00Z</td>\n",
       "      <td>56</td>\n",
       "      <td>JARDIM DA PENHA</td>\n",
       "      <td>0</td>\n",
       "      <td>1</td>\n",
       "      <td>1</td>\n",
       "      <td>0</td>\n",
       "      <td>0</td>\n",
       "      <td>0</td>\n",
       "      <td>No</td>\n",
       "    </tr>\n",
       "  </tbody>\n",
       "</table>\n",
       "</div>"
      ],
      "text/plain": [
       "      PatientId  AppointmentID Gender          ScheduledDay  \\\n",
       "0  2.987250e+13        5642903      F  2016-04-29T18:38:08Z   \n",
       "1  5.589978e+14        5642503      M  2016-04-29T16:08:27Z   \n",
       "2  4.262962e+12        5642549      F  2016-04-29T16:19:04Z   \n",
       "3  8.679512e+11        5642828      F  2016-04-29T17:29:31Z   \n",
       "4  8.841186e+12        5642494      F  2016-04-29T16:07:23Z   \n",
       "\n",
       "         AppointmentDay  Age      Neighbourhood  Scholarship  Hipertension  \\\n",
       "0  2016-04-29T00:00:00Z   62    JARDIM DA PENHA            0             1   \n",
       "1  2016-04-29T00:00:00Z   56    JARDIM DA PENHA            0             0   \n",
       "2  2016-04-29T00:00:00Z   62      MATA DA PRAIA            0             0   \n",
       "3  2016-04-29T00:00:00Z    8  PONTAL DE CAMBURI            0             0   \n",
       "4  2016-04-29T00:00:00Z   56    JARDIM DA PENHA            0             1   \n",
       "\n",
       "   Diabetes  Alcoholism  Handcap  SMS_received No-show  \n",
       "0         0           0        0             0      No  \n",
       "1         0           0        0             0      No  \n",
       "2         0           0        0             0      No  \n",
       "3         0           0        0             0      No  \n",
       "4         1           0        0             0      No  "
      ]
     },
     "execution_count": 2,
     "metadata": {},
     "output_type": "execute_result"
    }
   ],
   "source": [
    "# Load our data and print the first 5 rows\n",
    "df = pd.read_csv('database_new.csv')\n",
    "df.head()"
   ]
  },
  {
   "cell_type": "code",
   "execution_count": 3,
   "id": "8f4efa92",
   "metadata": {},
   "outputs": [
    {
     "data": {
      "text/plain": [
       "(110527, 14)"
      ]
     },
     "execution_count": 3,
     "metadata": {},
     "output_type": "execute_result"
    }
   ],
   "source": [
    "# Print the shape of our dataframe\n",
    "df.shape"
   ]
  },
  {
   "cell_type": "code",
   "execution_count": 4,
   "id": "f3d82ab8",
   "metadata": {},
   "outputs": [
    {
     "name": "stdout",
     "output_type": "stream",
     "text": [
      "<class 'pandas.core.frame.DataFrame'>\n",
      "RangeIndex: 110527 entries, 0 to 110526\n",
      "Data columns (total 14 columns):\n",
      " #   Column          Non-Null Count   Dtype  \n",
      "---  ------          --------------   -----  \n",
      " 0   PatientId       110527 non-null  float64\n",
      " 1   AppointmentID   110527 non-null  int64  \n",
      " 2   Gender          110527 non-null  object \n",
      " 3   ScheduledDay    110527 non-null  object \n",
      " 4   AppointmentDay  110527 non-null  object \n",
      " 5   Age             110527 non-null  int64  \n",
      " 6   Neighbourhood   110527 non-null  object \n",
      " 7   Scholarship     110527 non-null  int64  \n",
      " 8   Hipertension    110527 non-null  int64  \n",
      " 9   Diabetes        110527 non-null  int64  \n",
      " 10  Alcoholism      110527 non-null  int64  \n",
      " 11  Handcap         110527 non-null  int64  \n",
      " 12  SMS_received    110527 non-null  int64  \n",
      " 13  No-show         110527 non-null  object \n",
      "dtypes: float64(1), int64(8), object(5)\n",
      "memory usage: 11.8+ MB\n"
     ]
    }
   ],
   "source": [
    "# Print all information about datafram (dtype , non null count)\n",
    "df.info()"
   ]
  },
  {
   "cell_type": "markdown",
   "id": "ec6718bd",
   "metadata": {},
   "source": [
    "### Note\n",
    "there is no null value in this database."
   ]
  },
  {
   "cell_type": "code",
   "execution_count": 5,
   "id": "473ae920",
   "metadata": {},
   "outputs": [
    {
     "data": {
      "text/html": [
       "<div>\n",
       "<style scoped>\n",
       "    .dataframe tbody tr th:only-of-type {\n",
       "        vertical-align: middle;\n",
       "    }\n",
       "\n",
       "    .dataframe tbody tr th {\n",
       "        vertical-align: top;\n",
       "    }\n",
       "\n",
       "    .dataframe thead th {\n",
       "        text-align: right;\n",
       "    }\n",
       "</style>\n",
       "<table border=\"1\" class=\"dataframe\">\n",
       "  <thead>\n",
       "    <tr style=\"text-align: right;\">\n",
       "      <th></th>\n",
       "      <th>PatientId</th>\n",
       "      <th>AppointmentID</th>\n",
       "      <th>Age</th>\n",
       "      <th>Scholarship</th>\n",
       "      <th>Hipertension</th>\n",
       "      <th>Diabetes</th>\n",
       "      <th>Alcoholism</th>\n",
       "      <th>Handcap</th>\n",
       "      <th>SMS_received</th>\n",
       "    </tr>\n",
       "  </thead>\n",
       "  <tbody>\n",
       "    <tr>\n",
       "      <th>count</th>\n",
       "      <td>1.105270e+05</td>\n",
       "      <td>110527.000</td>\n",
       "      <td>110527.000</td>\n",
       "      <td>110527.000</td>\n",
       "      <td>110527.000</td>\n",
       "      <td>110527.000</td>\n",
       "      <td>110527.000</td>\n",
       "      <td>110527.000</td>\n",
       "      <td>110527.000</td>\n",
       "    </tr>\n",
       "    <tr>\n",
       "      <th>mean</th>\n",
       "      <td>1.474963e+14</td>\n",
       "      <td>5675305.123</td>\n",
       "      <td>37.089</td>\n",
       "      <td>0.098</td>\n",
       "      <td>0.197</td>\n",
       "      <td>0.072</td>\n",
       "      <td>0.030</td>\n",
       "      <td>0.022</td>\n",
       "      <td>0.321</td>\n",
       "    </tr>\n",
       "    <tr>\n",
       "      <th>std</th>\n",
       "      <td>2.560949e+14</td>\n",
       "      <td>71295.752</td>\n",
       "      <td>23.110</td>\n",
       "      <td>0.298</td>\n",
       "      <td>0.398</td>\n",
       "      <td>0.258</td>\n",
       "      <td>0.172</td>\n",
       "      <td>0.162</td>\n",
       "      <td>0.467</td>\n",
       "    </tr>\n",
       "    <tr>\n",
       "      <th>min</th>\n",
       "      <td>3.921784e+04</td>\n",
       "      <td>5030230.000</td>\n",
       "      <td>-1.000</td>\n",
       "      <td>0.000</td>\n",
       "      <td>0.000</td>\n",
       "      <td>0.000</td>\n",
       "      <td>0.000</td>\n",
       "      <td>0.000</td>\n",
       "      <td>0.000</td>\n",
       "    </tr>\n",
       "    <tr>\n",
       "      <th>25%</th>\n",
       "      <td>4.172614e+12</td>\n",
       "      <td>5640285.500</td>\n",
       "      <td>18.000</td>\n",
       "      <td>0.000</td>\n",
       "      <td>0.000</td>\n",
       "      <td>0.000</td>\n",
       "      <td>0.000</td>\n",
       "      <td>0.000</td>\n",
       "      <td>0.000</td>\n",
       "    </tr>\n",
       "    <tr>\n",
       "      <th>50%</th>\n",
       "      <td>3.173184e+13</td>\n",
       "      <td>5680573.000</td>\n",
       "      <td>37.000</td>\n",
       "      <td>0.000</td>\n",
       "      <td>0.000</td>\n",
       "      <td>0.000</td>\n",
       "      <td>0.000</td>\n",
       "      <td>0.000</td>\n",
       "      <td>0.000</td>\n",
       "    </tr>\n",
       "    <tr>\n",
       "      <th>75%</th>\n",
       "      <td>9.439172e+13</td>\n",
       "      <td>5725523.500</td>\n",
       "      <td>55.000</td>\n",
       "      <td>0.000</td>\n",
       "      <td>0.000</td>\n",
       "      <td>0.000</td>\n",
       "      <td>0.000</td>\n",
       "      <td>0.000</td>\n",
       "      <td>1.000</td>\n",
       "    </tr>\n",
       "    <tr>\n",
       "      <th>max</th>\n",
       "      <td>9.999816e+14</td>\n",
       "      <td>5790484.000</td>\n",
       "      <td>115.000</td>\n",
       "      <td>1.000</td>\n",
       "      <td>1.000</td>\n",
       "      <td>1.000</td>\n",
       "      <td>1.000</td>\n",
       "      <td>4.000</td>\n",
       "      <td>1.000</td>\n",
       "    </tr>\n",
       "  </tbody>\n",
       "</table>\n",
       "</div>"
      ],
      "text/plain": [
       "          PatientId  AppointmentID         Age  Scholarship  Hipertension  \\\n",
       "count  1.105270e+05     110527.000  110527.000   110527.000    110527.000   \n",
       "mean   1.474963e+14    5675305.123      37.089        0.098         0.197   \n",
       "std    2.560949e+14      71295.752      23.110        0.298         0.398   \n",
       "min    3.921784e+04    5030230.000      -1.000        0.000         0.000   \n",
       "25%    4.172614e+12    5640285.500      18.000        0.000         0.000   \n",
       "50%    3.173184e+13    5680573.000      37.000        0.000         0.000   \n",
       "75%    9.439172e+13    5725523.500      55.000        0.000         0.000   \n",
       "max    9.999816e+14    5790484.000     115.000        1.000         1.000   \n",
       "\n",
       "         Diabetes  Alcoholism     Handcap  SMS_received  \n",
       "count  110527.000  110527.000  110527.000    110527.000  \n",
       "mean        0.072       0.030       0.022         0.321  \n",
       "std         0.258       0.172       0.162         0.467  \n",
       "min         0.000       0.000       0.000         0.000  \n",
       "25%         0.000       0.000       0.000         0.000  \n",
       "50%         0.000       0.000       0.000         0.000  \n",
       "75%         0.000       0.000       0.000         1.000  \n",
       "max         1.000       1.000       4.000         1.000  "
      ]
     },
     "execution_count": 5,
     "metadata": {},
     "output_type": "execute_result"
    }
   ],
   "source": [
    "# Round data to 3 number after dismil point becouse results were so big\n",
    "df.describe().round(3)"
   ]
  },
  {
   "cell_type": "markdown",
   "id": "6544b9a6",
   "metadata": {},
   "source": [
    "# Data Wrangling;"
   ]
  },
  {
   "cell_type": "markdown",
   "id": "9c41dba4",
   "metadata": {},
   "source": [
    "\n",
    "### What will i do\n",
    "1- convert all database columns to lower                \n",
    "2- convert patientid from float to int              \n",
    "3- convert scheduleday and appointmentday from object to datetime"
   ]
  },
  {
   "cell_type": "code",
   "execution_count": 6,
   "id": "7ab42edb",
   "metadata": {},
   "outputs": [],
   "source": [
    "# Convert all columns to lowercase \n",
    "df.rename(columns= lambda x : x.strip().lower().replace('-','_'),inplace = True)"
   ]
  },
  {
   "cell_type": "code",
   "execution_count": 7,
   "id": "9355126f",
   "metadata": {},
   "outputs": [],
   "source": [
    "# Modify some columns name to be easy to read\n",
    "df.rename(columns = {'patientid':'patient_id', 'appointmentid' : 'appointment_id','scheduledday':'scheduled_day','appointmentday':'appointment_day'},inplace = True)"
   ]
  },
  {
   "cell_type": "code",
   "execution_count": 8,
   "id": "f2e7dec3",
   "metadata": {},
   "outputs": [],
   "source": [
    "# Convert scheduled_day and appointment_day to datetime \n",
    "df['scheduled_day'] = pd.to_datetime(df['scheduled_day'])\n",
    "df['appointment_day'] = pd.to_datetime(df['appointment_day'])"
   ]
  },
  {
   "cell_type": "code",
   "execution_count": 9,
   "id": "01e5cec3",
   "metadata": {},
   "outputs": [
    {
     "data": {
      "text/html": [
       "<div>\n",
       "<style scoped>\n",
       "    .dataframe tbody tr th:only-of-type {\n",
       "        vertical-align: middle;\n",
       "    }\n",
       "\n",
       "    .dataframe tbody tr th {\n",
       "        vertical-align: top;\n",
       "    }\n",
       "\n",
       "    .dataframe thead th {\n",
       "        text-align: right;\n",
       "    }\n",
       "</style>\n",
       "<table border=\"1\" class=\"dataframe\">\n",
       "  <thead>\n",
       "    <tr style=\"text-align: right;\">\n",
       "      <th></th>\n",
       "      <th>patient_id</th>\n",
       "      <th>appointment_id</th>\n",
       "      <th>gender</th>\n",
       "      <th>scheduled_day</th>\n",
       "      <th>appointment_day</th>\n",
       "      <th>age</th>\n",
       "      <th>neighbourhood</th>\n",
       "      <th>scholarship</th>\n",
       "      <th>hipertension</th>\n",
       "      <th>diabetes</th>\n",
       "      <th>alcoholism</th>\n",
       "      <th>handcap</th>\n",
       "      <th>sms_received</th>\n",
       "      <th>no_show</th>\n",
       "    </tr>\n",
       "  </thead>\n",
       "  <tbody>\n",
       "    <tr>\n",
       "      <th>0</th>\n",
       "      <td>2.987250e+13</td>\n",
       "      <td>5642903</td>\n",
       "      <td>F</td>\n",
       "      <td>2016-04-29 18:38:08+00:00</td>\n",
       "      <td>2016-04-29 00:00:00+00:00</td>\n",
       "      <td>62</td>\n",
       "      <td>JARDIM DA PENHA</td>\n",
       "      <td>0</td>\n",
       "      <td>1</td>\n",
       "      <td>0</td>\n",
       "      <td>0</td>\n",
       "      <td>0</td>\n",
       "      <td>0</td>\n",
       "      <td>No</td>\n",
       "    </tr>\n",
       "    <tr>\n",
       "      <th>1</th>\n",
       "      <td>5.589978e+14</td>\n",
       "      <td>5642503</td>\n",
       "      <td>M</td>\n",
       "      <td>2016-04-29 16:08:27+00:00</td>\n",
       "      <td>2016-04-29 00:00:00+00:00</td>\n",
       "      <td>56</td>\n",
       "      <td>JARDIM DA PENHA</td>\n",
       "      <td>0</td>\n",
       "      <td>0</td>\n",
       "      <td>0</td>\n",
       "      <td>0</td>\n",
       "      <td>0</td>\n",
       "      <td>0</td>\n",
       "      <td>No</td>\n",
       "    </tr>\n",
       "    <tr>\n",
       "      <th>2</th>\n",
       "      <td>4.262962e+12</td>\n",
       "      <td>5642549</td>\n",
       "      <td>F</td>\n",
       "      <td>2016-04-29 16:19:04+00:00</td>\n",
       "      <td>2016-04-29 00:00:00+00:00</td>\n",
       "      <td>62</td>\n",
       "      <td>MATA DA PRAIA</td>\n",
       "      <td>0</td>\n",
       "      <td>0</td>\n",
       "      <td>0</td>\n",
       "      <td>0</td>\n",
       "      <td>0</td>\n",
       "      <td>0</td>\n",
       "      <td>No</td>\n",
       "    </tr>\n",
       "    <tr>\n",
       "      <th>3</th>\n",
       "      <td>8.679512e+11</td>\n",
       "      <td>5642828</td>\n",
       "      <td>F</td>\n",
       "      <td>2016-04-29 17:29:31+00:00</td>\n",
       "      <td>2016-04-29 00:00:00+00:00</td>\n",
       "      <td>8</td>\n",
       "      <td>PONTAL DE CAMBURI</td>\n",
       "      <td>0</td>\n",
       "      <td>0</td>\n",
       "      <td>0</td>\n",
       "      <td>0</td>\n",
       "      <td>0</td>\n",
       "      <td>0</td>\n",
       "      <td>No</td>\n",
       "    </tr>\n",
       "    <tr>\n",
       "      <th>4</th>\n",
       "      <td>8.841186e+12</td>\n",
       "      <td>5642494</td>\n",
       "      <td>F</td>\n",
       "      <td>2016-04-29 16:07:23+00:00</td>\n",
       "      <td>2016-04-29 00:00:00+00:00</td>\n",
       "      <td>56</td>\n",
       "      <td>JARDIM DA PENHA</td>\n",
       "      <td>0</td>\n",
       "      <td>1</td>\n",
       "      <td>1</td>\n",
       "      <td>0</td>\n",
       "      <td>0</td>\n",
       "      <td>0</td>\n",
       "      <td>No</td>\n",
       "    </tr>\n",
       "    <tr>\n",
       "      <th>5</th>\n",
       "      <td>9.598513e+13</td>\n",
       "      <td>5626772</td>\n",
       "      <td>F</td>\n",
       "      <td>2016-04-27 08:36:51+00:00</td>\n",
       "      <td>2016-04-29 00:00:00+00:00</td>\n",
       "      <td>76</td>\n",
       "      <td>REPÚBLICA</td>\n",
       "      <td>0</td>\n",
       "      <td>1</td>\n",
       "      <td>0</td>\n",
       "      <td>0</td>\n",
       "      <td>0</td>\n",
       "      <td>0</td>\n",
       "      <td>No</td>\n",
       "    </tr>\n",
       "    <tr>\n",
       "      <th>6</th>\n",
       "      <td>7.336882e+14</td>\n",
       "      <td>5630279</td>\n",
       "      <td>F</td>\n",
       "      <td>2016-04-27 15:05:12+00:00</td>\n",
       "      <td>2016-04-29 00:00:00+00:00</td>\n",
       "      <td>23</td>\n",
       "      <td>GOIABEIRAS</td>\n",
       "      <td>0</td>\n",
       "      <td>0</td>\n",
       "      <td>0</td>\n",
       "      <td>0</td>\n",
       "      <td>0</td>\n",
       "      <td>0</td>\n",
       "      <td>Yes</td>\n",
       "    </tr>\n",
       "    <tr>\n",
       "      <th>7</th>\n",
       "      <td>3.449833e+12</td>\n",
       "      <td>5630575</td>\n",
       "      <td>F</td>\n",
       "      <td>2016-04-27 15:39:58+00:00</td>\n",
       "      <td>2016-04-29 00:00:00+00:00</td>\n",
       "      <td>39</td>\n",
       "      <td>GOIABEIRAS</td>\n",
       "      <td>0</td>\n",
       "      <td>0</td>\n",
       "      <td>0</td>\n",
       "      <td>0</td>\n",
       "      <td>0</td>\n",
       "      <td>0</td>\n",
       "      <td>Yes</td>\n",
       "    </tr>\n",
       "    <tr>\n",
       "      <th>8</th>\n",
       "      <td>5.639473e+13</td>\n",
       "      <td>5638447</td>\n",
       "      <td>F</td>\n",
       "      <td>2016-04-29 08:02:16+00:00</td>\n",
       "      <td>2016-04-29 00:00:00+00:00</td>\n",
       "      <td>21</td>\n",
       "      <td>ANDORINHAS</td>\n",
       "      <td>0</td>\n",
       "      <td>0</td>\n",
       "      <td>0</td>\n",
       "      <td>0</td>\n",
       "      <td>0</td>\n",
       "      <td>0</td>\n",
       "      <td>No</td>\n",
       "    </tr>\n",
       "    <tr>\n",
       "      <th>9</th>\n",
       "      <td>7.812456e+13</td>\n",
       "      <td>5629123</td>\n",
       "      <td>F</td>\n",
       "      <td>2016-04-27 12:48:25+00:00</td>\n",
       "      <td>2016-04-29 00:00:00+00:00</td>\n",
       "      <td>19</td>\n",
       "      <td>CONQUISTA</td>\n",
       "      <td>0</td>\n",
       "      <td>0</td>\n",
       "      <td>0</td>\n",
       "      <td>0</td>\n",
       "      <td>0</td>\n",
       "      <td>0</td>\n",
       "      <td>No</td>\n",
       "    </tr>\n",
       "    <tr>\n",
       "      <th>10</th>\n",
       "      <td>7.345362e+14</td>\n",
       "      <td>5630213</td>\n",
       "      <td>F</td>\n",
       "      <td>2016-04-27 14:58:11+00:00</td>\n",
       "      <td>2016-04-29 00:00:00+00:00</td>\n",
       "      <td>30</td>\n",
       "      <td>NOVA PALESTINA</td>\n",
       "      <td>0</td>\n",
       "      <td>0</td>\n",
       "      <td>0</td>\n",
       "      <td>0</td>\n",
       "      <td>0</td>\n",
       "      <td>0</td>\n",
       "      <td>No</td>\n",
       "    </tr>\n",
       "    <tr>\n",
       "      <th>11</th>\n",
       "      <td>7.542951e+12</td>\n",
       "      <td>5620163</td>\n",
       "      <td>M</td>\n",
       "      <td>2016-04-26 08:44:12+00:00</td>\n",
       "      <td>2016-04-29 00:00:00+00:00</td>\n",
       "      <td>29</td>\n",
       "      <td>NOVA PALESTINA</td>\n",
       "      <td>0</td>\n",
       "      <td>0</td>\n",
       "      <td>0</td>\n",
       "      <td>0</td>\n",
       "      <td>0</td>\n",
       "      <td>1</td>\n",
       "      <td>Yes</td>\n",
       "    </tr>\n",
       "    <tr>\n",
       "      <th>12</th>\n",
       "      <td>5.666548e+14</td>\n",
       "      <td>5634718</td>\n",
       "      <td>F</td>\n",
       "      <td>2016-04-28 11:33:51+00:00</td>\n",
       "      <td>2016-04-29 00:00:00+00:00</td>\n",
       "      <td>22</td>\n",
       "      <td>NOVA PALESTINA</td>\n",
       "      <td>1</td>\n",
       "      <td>0</td>\n",
       "      <td>0</td>\n",
       "      <td>0</td>\n",
       "      <td>0</td>\n",
       "      <td>0</td>\n",
       "      <td>No</td>\n",
       "    </tr>\n",
       "    <tr>\n",
       "      <th>13</th>\n",
       "      <td>9.113946e+14</td>\n",
       "      <td>5636249</td>\n",
       "      <td>M</td>\n",
       "      <td>2016-04-28 14:52:07+00:00</td>\n",
       "      <td>2016-04-29 00:00:00+00:00</td>\n",
       "      <td>28</td>\n",
       "      <td>NOVA PALESTINA</td>\n",
       "      <td>0</td>\n",
       "      <td>0</td>\n",
       "      <td>0</td>\n",
       "      <td>0</td>\n",
       "      <td>0</td>\n",
       "      <td>0</td>\n",
       "      <td>No</td>\n",
       "    </tr>\n",
       "    <tr>\n",
       "      <th>14</th>\n",
       "      <td>9.988472e+13</td>\n",
       "      <td>5633951</td>\n",
       "      <td>F</td>\n",
       "      <td>2016-04-28 10:06:24+00:00</td>\n",
       "      <td>2016-04-29 00:00:00+00:00</td>\n",
       "      <td>54</td>\n",
       "      <td>NOVA PALESTINA</td>\n",
       "      <td>0</td>\n",
       "      <td>0</td>\n",
       "      <td>0</td>\n",
       "      <td>0</td>\n",
       "      <td>0</td>\n",
       "      <td>0</td>\n",
       "      <td>No</td>\n",
       "    </tr>\n",
       "    <tr>\n",
       "      <th>15</th>\n",
       "      <td>9.994839e+10</td>\n",
       "      <td>5620206</td>\n",
       "      <td>F</td>\n",
       "      <td>2016-04-26 08:47:27+00:00</td>\n",
       "      <td>2016-04-29 00:00:00+00:00</td>\n",
       "      <td>15</td>\n",
       "      <td>NOVA PALESTINA</td>\n",
       "      <td>0</td>\n",
       "      <td>0</td>\n",
       "      <td>0</td>\n",
       "      <td>0</td>\n",
       "      <td>0</td>\n",
       "      <td>1</td>\n",
       "      <td>No</td>\n",
       "    </tr>\n",
       "    <tr>\n",
       "      <th>16</th>\n",
       "      <td>8.457439e+13</td>\n",
       "      <td>5633121</td>\n",
       "      <td>M</td>\n",
       "      <td>2016-04-28 08:51:47+00:00</td>\n",
       "      <td>2016-04-29 00:00:00+00:00</td>\n",
       "      <td>50</td>\n",
       "      <td>NOVA PALESTINA</td>\n",
       "      <td>0</td>\n",
       "      <td>0</td>\n",
       "      <td>0</td>\n",
       "      <td>0</td>\n",
       "      <td>0</td>\n",
       "      <td>0</td>\n",
       "      <td>No</td>\n",
       "    </tr>\n",
       "    <tr>\n",
       "      <th>17</th>\n",
       "      <td>1.479497e+13</td>\n",
       "      <td>5633460</td>\n",
       "      <td>F</td>\n",
       "      <td>2016-04-28 09:28:57+00:00</td>\n",
       "      <td>2016-04-29 00:00:00+00:00</td>\n",
       "      <td>40</td>\n",
       "      <td>CONQUISTA</td>\n",
       "      <td>1</td>\n",
       "      <td>0</td>\n",
       "      <td>0</td>\n",
       "      <td>0</td>\n",
       "      <td>0</td>\n",
       "      <td>0</td>\n",
       "      <td>Yes</td>\n",
       "    </tr>\n",
       "    <tr>\n",
       "      <th>18</th>\n",
       "      <td>1.713538e+13</td>\n",
       "      <td>5621836</td>\n",
       "      <td>F</td>\n",
       "      <td>2016-04-26 10:54:18+00:00</td>\n",
       "      <td>2016-04-29 00:00:00+00:00</td>\n",
       "      <td>30</td>\n",
       "      <td>NOVA PALESTINA</td>\n",
       "      <td>1</td>\n",
       "      <td>0</td>\n",
       "      <td>0</td>\n",
       "      <td>0</td>\n",
       "      <td>0</td>\n",
       "      <td>1</td>\n",
       "      <td>No</td>\n",
       "    </tr>\n",
       "    <tr>\n",
       "      <th>19</th>\n",
       "      <td>7.223289e+12</td>\n",
       "      <td>5640433</td>\n",
       "      <td>F</td>\n",
       "      <td>2016-04-29 10:43:14+00:00</td>\n",
       "      <td>2016-04-29 00:00:00+00:00</td>\n",
       "      <td>46</td>\n",
       "      <td>DA PENHA</td>\n",
       "      <td>0</td>\n",
       "      <td>0</td>\n",
       "      <td>0</td>\n",
       "      <td>0</td>\n",
       "      <td>0</td>\n",
       "      <td>0</td>\n",
       "      <td>No</td>\n",
       "    </tr>\n",
       "  </tbody>\n",
       "</table>\n",
       "</div>"
      ],
      "text/plain": [
       "      patient_id  appointment_id gender             scheduled_day  \\\n",
       "0   2.987250e+13         5642903      F 2016-04-29 18:38:08+00:00   \n",
       "1   5.589978e+14         5642503      M 2016-04-29 16:08:27+00:00   \n",
       "2   4.262962e+12         5642549      F 2016-04-29 16:19:04+00:00   \n",
       "3   8.679512e+11         5642828      F 2016-04-29 17:29:31+00:00   \n",
       "4   8.841186e+12         5642494      F 2016-04-29 16:07:23+00:00   \n",
       "5   9.598513e+13         5626772      F 2016-04-27 08:36:51+00:00   \n",
       "6   7.336882e+14         5630279      F 2016-04-27 15:05:12+00:00   \n",
       "7   3.449833e+12         5630575      F 2016-04-27 15:39:58+00:00   \n",
       "8   5.639473e+13         5638447      F 2016-04-29 08:02:16+00:00   \n",
       "9   7.812456e+13         5629123      F 2016-04-27 12:48:25+00:00   \n",
       "10  7.345362e+14         5630213      F 2016-04-27 14:58:11+00:00   \n",
       "11  7.542951e+12         5620163      M 2016-04-26 08:44:12+00:00   \n",
       "12  5.666548e+14         5634718      F 2016-04-28 11:33:51+00:00   \n",
       "13  9.113946e+14         5636249      M 2016-04-28 14:52:07+00:00   \n",
       "14  9.988472e+13         5633951      F 2016-04-28 10:06:24+00:00   \n",
       "15  9.994839e+10         5620206      F 2016-04-26 08:47:27+00:00   \n",
       "16  8.457439e+13         5633121      M 2016-04-28 08:51:47+00:00   \n",
       "17  1.479497e+13         5633460      F 2016-04-28 09:28:57+00:00   \n",
       "18  1.713538e+13         5621836      F 2016-04-26 10:54:18+00:00   \n",
       "19  7.223289e+12         5640433      F 2016-04-29 10:43:14+00:00   \n",
       "\n",
       "             appointment_day  age      neighbourhood  scholarship  \\\n",
       "0  2016-04-29 00:00:00+00:00   62    JARDIM DA PENHA            0   \n",
       "1  2016-04-29 00:00:00+00:00   56    JARDIM DA PENHA            0   \n",
       "2  2016-04-29 00:00:00+00:00   62      MATA DA PRAIA            0   \n",
       "3  2016-04-29 00:00:00+00:00    8  PONTAL DE CAMBURI            0   \n",
       "4  2016-04-29 00:00:00+00:00   56    JARDIM DA PENHA            0   \n",
       "5  2016-04-29 00:00:00+00:00   76          REPÚBLICA            0   \n",
       "6  2016-04-29 00:00:00+00:00   23         GOIABEIRAS            0   \n",
       "7  2016-04-29 00:00:00+00:00   39         GOIABEIRAS            0   \n",
       "8  2016-04-29 00:00:00+00:00   21         ANDORINHAS            0   \n",
       "9  2016-04-29 00:00:00+00:00   19          CONQUISTA            0   \n",
       "10 2016-04-29 00:00:00+00:00   30     NOVA PALESTINA            0   \n",
       "11 2016-04-29 00:00:00+00:00   29     NOVA PALESTINA            0   \n",
       "12 2016-04-29 00:00:00+00:00   22     NOVA PALESTINA            1   \n",
       "13 2016-04-29 00:00:00+00:00   28     NOVA PALESTINA            0   \n",
       "14 2016-04-29 00:00:00+00:00   54     NOVA PALESTINA            0   \n",
       "15 2016-04-29 00:00:00+00:00   15     NOVA PALESTINA            0   \n",
       "16 2016-04-29 00:00:00+00:00   50     NOVA PALESTINA            0   \n",
       "17 2016-04-29 00:00:00+00:00   40          CONQUISTA            1   \n",
       "18 2016-04-29 00:00:00+00:00   30     NOVA PALESTINA            1   \n",
       "19 2016-04-29 00:00:00+00:00   46           DA PENHA            0   \n",
       "\n",
       "    hipertension  diabetes  alcoholism  handcap  sms_received no_show  \n",
       "0              1         0           0        0             0      No  \n",
       "1              0         0           0        0             0      No  \n",
       "2              0         0           0        0             0      No  \n",
       "3              0         0           0        0             0      No  \n",
       "4              1         1           0        0             0      No  \n",
       "5              1         0           0        0             0      No  \n",
       "6              0         0           0        0             0     Yes  \n",
       "7              0         0           0        0             0     Yes  \n",
       "8              0         0           0        0             0      No  \n",
       "9              0         0           0        0             0      No  \n",
       "10             0         0           0        0             0      No  \n",
       "11             0         0           0        0             1     Yes  \n",
       "12             0         0           0        0             0      No  \n",
       "13             0         0           0        0             0      No  \n",
       "14             0         0           0        0             0      No  \n",
       "15             0         0           0        0             1      No  \n",
       "16             0         0           0        0             0      No  \n",
       "17             0         0           0        0             0     Yes  \n",
       "18             0         0           0        0             1      No  \n",
       "19             0         0           0        0             0      No  "
      ]
     },
     "execution_count": 9,
     "metadata": {},
     "output_type": "execute_result"
    }
   ],
   "source": [
    "df.head(20)"
   ]
  },
  {
   "cell_type": "code",
   "execution_count": 10,
   "id": "09be5de2",
   "metadata": {},
   "outputs": [
    {
     "name": "stdout",
     "output_type": "stream",
     "text": [
      "count    110527.000000\n",
      "mean         37.088874\n",
      "std          23.110205\n",
      "min          -1.000000\n",
      "25%          18.000000\n",
      "50%          37.000000\n",
      "75%          55.000000\n",
      "max         115.000000\n",
      "Name: age, dtype: float64\n"
     ]
    }
   ],
   "source": [
    "# Function to print describation statistics for specific column \n",
    "def MyFunc(dataframe,colname):\n",
    "    print(dataframe[colname].describe())\n",
    "MyFunc(df,'age')"
   ]
  },
  {
   "cell_type": "code",
   "execution_count": 11,
   "id": "770cefcf",
   "metadata": {},
   "outputs": [
    {
     "data": {
      "text/plain": [
       "0"
      ]
     },
     "execution_count": 11,
     "metadata": {},
     "output_type": "execute_result"
    }
   ],
   "source": [
    "df.duplicated().sum()"
   ]
  },
  {
   "cell_type": "markdown",
   "id": "80b3569c",
   "metadata": {},
   "source": [
    "## Note \n",
    "There is no duplicate values "
   ]
  },
  {
   "cell_type": "markdown",
   "id": "6cc3d44e",
   "metadata": {},
   "source": [
    "# Questions"
   ]
  },
  {
   "cell_type": "markdown",
   "id": "af34fcd4",
   "metadata": {},
   "source": [
    "Q : What is the most age patients suffer from diabetes ?    \n",
    "Q : the average of patient that suffer from diabetes?        \n",
    "Q : What is the most gender that have diabetes?     \n",
    "Q : What is the most age people drink alcohol?        \n",
    "Q : What is the most gender suffer from diabetes?\n",
    "Q : What is the most hospital resive patients?      \n",
    "Q : What is the gender that drinke alcohol very much?        \n",
    "Q : Number of patients that scholarship? Did all registered patients attend the examination?           \n",
    "Q : Is there a relationship between diabetes and alcoholism ?        \n",
    "Q : What factors are important for us to know in order to predict if a patient will show up for their scheduled appointment?   \n"
   ]
  },
  {
   "cell_type": "markdown",
   "id": "61df323d",
   "metadata": {},
   "source": [
    "# EXPLORATORY DATA ANALYSIS"
   ]
  },
  {
   "cell_type": "code",
   "execution_count": 12,
   "id": "8bd1a85a",
   "metadata": {},
   "outputs": [
    {
     "data": {
      "image/png": "[encoded data removed]",
      "text/plain": [
       "<Figure size 432x288 with 1 Axes>"
      ]
     },
     "metadata": {
      "needs_background": "light"
     },
     "output_type": "display_data"
    }
   ],
   "source": [
    "df[df['diabetes'] == 1]['age'].hist()\n",
    "plt.xlabel('Age')\n",
    "plt.ylabel('The number of diabetics')\n",
    "plt.title('The relationship between age and incidence of diabetes');"
   ]
  },
  {
   "cell_type": "markdown",
   "id": "70944577",
   "metadata": {},
   "source": [
    "I plot this chart to know the most age that suffer from diabetes.            \n",
    "I found that most age is 60 to 70 year old."
   ]
  },
  {
   "cell_type": "markdown",
   "id": "0d35736b",
   "metadata": {},
   "source": [
    "### the average of patient that suffer from diabetes"
   ]
  },
  {
   "cell_type": "code",
   "execution_count": 13,
   "id": "46eef706",
   "metadata": {},
   "outputs": [
    {
     "data": {
      "text/plain": [
       "diabetes\n",
       "0    35.208610\n",
       "1    61.372529\n",
       "Name: age, dtype: float64"
      ]
     },
     "execution_count": 13,
     "metadata": {},
     "output_type": "execute_result"
    }
   ],
   "source": [
    "df.groupby('diabetes')['age'].mean()"
   ]
  },
  {
   "cell_type": "code",
   "execution_count": 14,
   "id": "7f20a8bf",
   "metadata": {},
   "outputs": [
    {
     "data": {
      "image/png": "[encoded data removed]",
      "text/plain": [
       "<Figure size 432x288 with 1 Axes>"
      ]
     },
     "metadata": {
      "needs_background": "light"
     },
     "output_type": "display_data"
    }
   ],
   "source": [
    "df.groupby('diabetes')['age'].mean().plot(kind = 'bar' )\n",
    "plt.title('Age average for patient that have diabetes and not');"
   ]
  },
  {
   "cell_type": "markdown",
   "id": "aada4ff7",
   "metadata": {},
   "source": [
    "### What is the most gender that have diabetes?"
   ]
  },
  {
   "cell_type": "code",
   "execution_count": 15,
   "id": "9901def7",
   "metadata": {},
   "outputs": [
    {
     "data": {
      "text/plain": [
       "diabetes  gender\n",
       "1         F         5606\n",
       "          M         2337\n",
       "Name: gender, dtype: int64"
      ]
     },
     "execution_count": 15,
     "metadata": {},
     "output_type": "execute_result"
    }
   ],
   "source": [
    "gen_diab = df[df['diabetes'] == 1]\n",
    "gen_diab.groupby('diabetes')['gender'].value_counts()"
   ]
  },
  {
   "cell_type": "code",
   "execution_count": 16,
   "id": "ca770a4e",
   "metadata": {},
   "outputs": [
    {
     "data": {
      "image/png": "[encoded data removed]",
      "text/plain": [
       "<Figure size 432x288 with 1 Axes>"
      ]
     },
     "metadata": {
      "needs_background": "light"
     },
     "output_type": "display_data"
    }
   ],
   "source": [
    "x = gen_diab.groupby('diabetes')['gender'].value_counts().tolist()\n",
    "plt.bar(x = ['F','M'], height= x )\n",
    "plt.xlabel('Gender')\n",
    "plt.ylabel('count')\n",
    "plt.title('Count genders that have diabetes');"
   ]
  },
  {
   "cell_type": "markdown",
   "id": "6983b4d4",
   "metadata": {},
   "source": [
    "Bar chart showed that females suffer from diabetes more than males"
   ]
  },
  {
   "cell_type": "markdown",
   "id": "382deba8",
   "metadata": {},
   "source": [
    "Q : What is the most age people drink alcohol?"
   ]
  },
  {
   "cell_type": "code",
   "execution_count": 17,
   "id": "18e5200d",
   "metadata": {},
   "outputs": [
    {
     "data": {
      "image/png": "[encoded data removed]",
      "text/plain": [
       "<Figure size 432x288 with 1 Axes>"
      ]
     },
     "metadata": {
      "needs_background": "light"
     },
     "output_type": "display_data"
    }
   ],
   "source": [
    "df[df['alcoholism'] == 1]['age'].hist()\n",
    "plt.title('Relation between age and dring alcohol')\n",
    "plt.xlabel('Age')\n",
    "plt.ylabel('Count of alcoholism');"
   ]
  },
  {
   "cell_type": "markdown",
   "id": "925001b4",
   "metadata": {},
   "source": [
    "I plot this chart to show the most age that drink alcohol.                 \n",
    "I found that most age is 45:51 years old."
   ]
  },
  {
   "cell_type": "code",
   "execution_count": 18,
   "id": "75a3c4cf",
   "metadata": {},
   "outputs": [
    {
     "data": {
      "image/png": "[encoded data removed]",
      "text/plain": [
       "<Figure size 432x288 with 1 Axes>"
      ]
     },
     "metadata": {
      "needs_background": "light"
     },
     "output_type": "display_data"
    }
   ],
   "source": [
    "df[df['hipertension'] == 1]['age'].hist()\n",
    "plt.title('Relation between hipertension and age')\n",
    "plt.xlabel('Age')\n",
    "plt.ylabel('count');"
   ]
  },
  {
   "cell_type": "code",
   "execution_count": 19,
   "id": "90435f0d",
   "metadata": {
    "scrolled": true
   },
   "outputs": [
    {
     "data": {
      "text/plain": [
       " 0     3539\n",
       " 1     2273\n",
       " 2     1618\n",
       " 6     1521\n",
       " 3     1513\n",
       " 5     1489\n",
       " 7     1427\n",
       " 8     1424\n",
       " 9     1372\n",
       " 4     1299\n",
       " 10    1274\n",
       " 11    1195\n",
       " 14    1118\n",
       " 13    1103\n",
       " 12    1092\n",
       "-1        1\n",
       "Name: age, dtype: int64"
      ]
     },
     "execution_count": 19,
     "metadata": {},
     "output_type": "execute_result"
    }
   ],
   "source": [
    "# print the smallest age\n",
    "df[df['age']<15]['age'].value_counts()"
   ]
  },
  {
   "cell_type": "code",
   "execution_count": 20,
   "id": "97bfaad5",
   "metadata": {},
   "outputs": [],
   "source": [
    "# Drop row that contian negative age\n",
    "df.drop(df.index[df['age'] <= 0].tolist(),inplace = True)"
   ]
  },
  {
   "cell_type": "markdown",
   "id": "c94f2b80",
   "metadata": {},
   "source": [
    "Q : What is the most gender suffer from diabetes?"
   ]
  },
  {
   "cell_type": "code",
   "execution_count": 21,
   "id": "6334127c",
   "metadata": {},
   "outputs": [
    {
     "data": {
      "text/plain": [
       "gender\n",
       "F    70118\n",
       "M    36869\n",
       "Name: diabetes, dtype: int64"
      ]
     },
     "execution_count": 21,
     "metadata": {},
     "output_type": "execute_result"
    }
   ],
   "source": [
    "# print count of diabetes group by gender to now most gender suffer from diabetes\n",
    "df.groupby('gender')['diabetes'].count()"
   ]
  },
  {
   "cell_type": "markdown",
   "id": "5af48986",
   "metadata": {},
   "source": [
    "Q : What is the most hospital resive patients?"
   ]
  },
  {
   "cell_type": "code",
   "execution_count": 22,
   "id": "74f0e8e8",
   "metadata": {},
   "outputs": [
    {
     "data": {
      "text/plain": [
       "JARDIM CAMBURI       6154\n",
       "MARIA ORTIZ          4369\n",
       "RESISTÊNCIA          3360\n",
       "JARDIM DA PENHA      3224\n",
       "CENTRO               2590\n",
       "                     ... \n",
       "PONTAL DE CAMBURI      57\n",
       "ILHA DO BOI            32\n",
       "ILHA DO FRADE           8\n",
       "AEROPORTO               7\n",
       "PARQUE INDUSTRIAL       1\n",
       "Name: neighbourhood, Length: 80, dtype: int64"
      ]
     },
     "execution_count": 22,
     "metadata": {},
     "output_type": "execute_result"
    }
   ],
   "source": [
    "df[df['no_show'] == 'No']['neighbourhood'].value_counts()"
   ]
  },
  {
   "cell_type": "markdown",
   "id": "02980032",
   "metadata": {},
   "source": [
    "### What is the gender that drinke alcohol very much? "
   ]
  },
  {
   "cell_type": "code",
   "execution_count": 23,
   "id": "351e67f1",
   "metadata": {},
   "outputs": [
    {
     "data": {
      "image/png": "[encoded data removed]",
      "text/plain": [
       "<Figure size 432x288 with 1 Axes>"
      ]
     },
     "metadata": {},
     "output_type": "display_data"
    }
   ],
   "source": [
    "count_alc = df[df['alcoholism'] == 1].groupby('gender')['alcoholism'].value_counts().tolist()\n",
    "plt.pie(x = count_alc, labels= ['F','M'], autopct='%1.2f%%')\n",
    "plt.title('Percentage of gender that drinks alcohol');"
   ]
  },
  {
   "cell_type": "markdown",
   "id": "5c4b5a63",
   "metadata": {},
   "source": [
    "Q: Number of patients that scholarship? Did all registered patients attend the examination?"
   ]
  },
  {
   "cell_type": "code",
   "execution_count": 24,
   "id": "696e0edf",
   "metadata": {},
   "outputs": [
    {
     "data": {
      "text/html": [
       "<div>\n",
       "<style scoped>\n",
       "    .dataframe tbody tr th:only-of-type {\n",
       "        vertical-align: middle;\n",
       "    }\n",
       "\n",
       "    .dataframe tbody tr th {\n",
       "        vertical-align: top;\n",
       "    }\n",
       "\n",
       "    .dataframe thead th {\n",
       "        text-align: right;\n",
       "    }\n",
       "</style>\n",
       "<table border=\"1\" class=\"dataframe\">\n",
       "  <thead>\n",
       "    <tr style=\"text-align: right;\">\n",
       "      <th></th>\n",
       "      <th>patient_id</th>\n",
       "      <th>appointment_id</th>\n",
       "      <th>gender</th>\n",
       "      <th>scheduled_day</th>\n",
       "      <th>appointment_day</th>\n",
       "      <th>age</th>\n",
       "      <th>neighbourhood</th>\n",
       "      <th>scholarship</th>\n",
       "      <th>hipertension</th>\n",
       "      <th>diabetes</th>\n",
       "      <th>alcoholism</th>\n",
       "      <th>handcap</th>\n",
       "      <th>sms_received</th>\n",
       "      <th>no_show</th>\n",
       "    </tr>\n",
       "  </thead>\n",
       "  <tbody>\n",
       "    <tr>\n",
       "      <th>12</th>\n",
       "      <td>5.666548e+14</td>\n",
       "      <td>5634718</td>\n",
       "      <td>F</td>\n",
       "      <td>2016-04-28 11:33:51+00:00</td>\n",
       "      <td>2016-04-29 00:00:00+00:00</td>\n",
       "      <td>22</td>\n",
       "      <td>NOVA PALESTINA</td>\n",
       "      <td>1</td>\n",
       "      <td>0</td>\n",
       "      <td>0</td>\n",
       "      <td>0</td>\n",
       "      <td>0</td>\n",
       "      <td>0</td>\n",
       "      <td>No</td>\n",
       "    </tr>\n",
       "    <tr>\n",
       "      <th>17</th>\n",
       "      <td>1.479497e+13</td>\n",
       "      <td>5633460</td>\n",
       "      <td>F</td>\n",
       "      <td>2016-04-28 09:28:57+00:00</td>\n",
       "      <td>2016-04-29 00:00:00+00:00</td>\n",
       "      <td>40</td>\n",
       "      <td>CONQUISTA</td>\n",
       "      <td>1</td>\n",
       "      <td>0</td>\n",
       "      <td>0</td>\n",
       "      <td>0</td>\n",
       "      <td>0</td>\n",
       "      <td>0</td>\n",
       "      <td>Yes</td>\n",
       "    </tr>\n",
       "    <tr>\n",
       "      <th>18</th>\n",
       "      <td>1.713538e+13</td>\n",
       "      <td>5621836</td>\n",
       "      <td>F</td>\n",
       "      <td>2016-04-26 10:54:18+00:00</td>\n",
       "      <td>2016-04-29 00:00:00+00:00</td>\n",
       "      <td>30</td>\n",
       "      <td>NOVA PALESTINA</td>\n",
       "      <td>1</td>\n",
       "      <td>0</td>\n",
       "      <td>0</td>\n",
       "      <td>0</td>\n",
       "      <td>0</td>\n",
       "      <td>1</td>\n",
       "      <td>No</td>\n",
       "    </tr>\n",
       "    <tr>\n",
       "      <th>31</th>\n",
       "      <td>3.112849e+11</td>\n",
       "      <td>5628907</td>\n",
       "      <td>M</td>\n",
       "      <td>2016-04-27 12:07:14+00:00</td>\n",
       "      <td>2016-04-29 00:00:00+00:00</td>\n",
       "      <td>12</td>\n",
       "      <td>NOVA PALESTINA</td>\n",
       "      <td>1</td>\n",
       "      <td>0</td>\n",
       "      <td>0</td>\n",
       "      <td>0</td>\n",
       "      <td>0</td>\n",
       "      <td>0</td>\n",
       "      <td>Yes</td>\n",
       "    </tr>\n",
       "    <tr>\n",
       "      <th>33</th>\n",
       "      <td>7.653517e+12</td>\n",
       "      <td>5616921</td>\n",
       "      <td>F</td>\n",
       "      <td>2016-04-25 15:01:04+00:00</td>\n",
       "      <td>2016-04-29 00:00:00+00:00</td>\n",
       "      <td>38</td>\n",
       "      <td>SÃO CRISTÓVÃO</td>\n",
       "      <td>1</td>\n",
       "      <td>0</td>\n",
       "      <td>0</td>\n",
       "      <td>0</td>\n",
       "      <td>0</td>\n",
       "      <td>1</td>\n",
       "      <td>No</td>\n",
       "    </tr>\n",
       "    <tr>\n",
       "      <th>...</th>\n",
       "      <td>...</td>\n",
       "      <td>...</td>\n",
       "      <td>...</td>\n",
       "      <td>...</td>\n",
       "      <td>...</td>\n",
       "      <td>...</td>\n",
       "      <td>...</td>\n",
       "      <td>...</td>\n",
       "      <td>...</td>\n",
       "      <td>...</td>\n",
       "      <td>...</td>\n",
       "      <td>...</td>\n",
       "      <td>...</td>\n",
       "      <td>...</td>\n",
       "    </tr>\n",
       "    <tr>\n",
       "      <th>110423</th>\n",
       "      <td>1.751263e+14</td>\n",
       "      <td>5704561</td>\n",
       "      <td>F</td>\n",
       "      <td>2016-05-16 16:02:09+00:00</td>\n",
       "      <td>2016-06-08 00:00:00+00:00</td>\n",
       "      <td>34</td>\n",
       "      <td>RESISTÊNCIA</td>\n",
       "      <td>1</td>\n",
       "      <td>0</td>\n",
       "      <td>0</td>\n",
       "      <td>0</td>\n",
       "      <td>0</td>\n",
       "      <td>1</td>\n",
       "      <td>No</td>\n",
       "    </tr>\n",
       "    <tr>\n",
       "      <th>110426</th>\n",
       "      <td>9.691376e+09</td>\n",
       "      <td>5740289</td>\n",
       "      <td>M</td>\n",
       "      <td>2016-05-25 15:00:52+00:00</td>\n",
       "      <td>2016-06-08 00:00:00+00:00</td>\n",
       "      <td>13</td>\n",
       "      <td>RESISTÊNCIA</td>\n",
       "      <td>1</td>\n",
       "      <td>0</td>\n",
       "      <td>0</td>\n",
       "      <td>0</td>\n",
       "      <td>0</td>\n",
       "      <td>1</td>\n",
       "      <td>No</td>\n",
       "    </tr>\n",
       "    <tr>\n",
       "      <th>110473</th>\n",
       "      <td>7.555300e+11</td>\n",
       "      <td>5779851</td>\n",
       "      <td>M</td>\n",
       "      <td>2016-06-07 07:19:54+00:00</td>\n",
       "      <td>2016-06-07 00:00:00+00:00</td>\n",
       "      <td>2</td>\n",
       "      <td>NOVA PALESTINA</td>\n",
       "      <td>1</td>\n",
       "      <td>0</td>\n",
       "      <td>0</td>\n",
       "      <td>0</td>\n",
       "      <td>0</td>\n",
       "      <td>0</td>\n",
       "      <td>No</td>\n",
       "    </tr>\n",
       "    <tr>\n",
       "      <th>110479</th>\n",
       "      <td>4.455244e+12</td>\n",
       "      <td>5638153</td>\n",
       "      <td>F</td>\n",
       "      <td>2016-04-29 07:45:43+00:00</td>\n",
       "      <td>2016-06-06 00:00:00+00:00</td>\n",
       "      <td>34</td>\n",
       "      <td>RESISTÊNCIA</td>\n",
       "      <td>1</td>\n",
       "      <td>0</td>\n",
       "      <td>0</td>\n",
       "      <td>0</td>\n",
       "      <td>0</td>\n",
       "      <td>1</td>\n",
       "      <td>Yes</td>\n",
       "    </tr>\n",
       "    <tr>\n",
       "      <th>110482</th>\n",
       "      <td>5.944225e+14</td>\n",
       "      <td>5639147</td>\n",
       "      <td>F</td>\n",
       "      <td>2016-04-29 08:45:44+00:00</td>\n",
       "      <td>2016-06-06 00:00:00+00:00</td>\n",
       "      <td>43</td>\n",
       "      <td>RESISTÊNCIA</td>\n",
       "      <td>1</td>\n",
       "      <td>0</td>\n",
       "      <td>0</td>\n",
       "      <td>0</td>\n",
       "      <td>0</td>\n",
       "      <td>1</td>\n",
       "      <td>Yes</td>\n",
       "    </tr>\n",
       "  </tbody>\n",
       "</table>\n",
       "<p>10809 rows × 14 columns</p>\n",
       "</div>"
      ],
      "text/plain": [
       "          patient_id  appointment_id gender             scheduled_day  \\\n",
       "12      5.666548e+14         5634718      F 2016-04-28 11:33:51+00:00   \n",
       "17      1.479497e+13         5633460      F 2016-04-28 09:28:57+00:00   \n",
       "18      1.713538e+13         5621836      F 2016-04-26 10:54:18+00:00   \n",
       "31      3.112849e+11         5628907      M 2016-04-27 12:07:14+00:00   \n",
       "33      7.653517e+12         5616921      F 2016-04-25 15:01:04+00:00   \n",
       "...              ...             ...    ...                       ...   \n",
       "110423  1.751263e+14         5704561      F 2016-05-16 16:02:09+00:00   \n",
       "110426  9.691376e+09         5740289      M 2016-05-25 15:00:52+00:00   \n",
       "110473  7.555300e+11         5779851      M 2016-06-07 07:19:54+00:00   \n",
       "110479  4.455244e+12         5638153      F 2016-04-29 07:45:43+00:00   \n",
       "110482  5.944225e+14         5639147      F 2016-04-29 08:45:44+00:00   \n",
       "\n",
       "                 appointment_day  age   neighbourhood  scholarship  \\\n",
       "12     2016-04-29 00:00:00+00:00   22  NOVA PALESTINA            1   \n",
       "17     2016-04-29 00:00:00+00:00   40       CONQUISTA            1   \n",
       "18     2016-04-29 00:00:00+00:00   30  NOVA PALESTINA            1   \n",
       "31     2016-04-29 00:00:00+00:00   12  NOVA PALESTINA            1   \n",
       "33     2016-04-29 00:00:00+00:00   38   SÃO CRISTÓVÃO            1   \n",
       "...                          ...  ...             ...          ...   \n",
       "110423 2016-06-08 00:00:00+00:00   34     RESISTÊNCIA            1   \n",
       "110426 2016-06-08 00:00:00+00:00   13     RESISTÊNCIA            1   \n",
       "110473 2016-06-07 00:00:00+00:00    2  NOVA PALESTINA            1   \n",
       "110479 2016-06-06 00:00:00+00:00   34     RESISTÊNCIA            1   \n",
       "110482 2016-06-06 00:00:00+00:00   43     RESISTÊNCIA            1   \n",
       "\n",
       "        hipertension  diabetes  alcoholism  handcap  sms_received no_show  \n",
       "12                 0         0           0        0             0      No  \n",
       "17                 0         0           0        0             0     Yes  \n",
       "18                 0         0           0        0             1      No  \n",
       "31                 0         0           0        0             0     Yes  \n",
       "33                 0         0           0        0             1      No  \n",
       "...              ...       ...         ...      ...           ...     ...  \n",
       "110423             0         0           0        0             1      No  \n",
       "110426             0         0           0        0             1      No  \n",
       "110473             0         0           0        0             0      No  \n",
       "110479             0         0           0        0             1     Yes  \n",
       "110482             0         0           0        0             1     Yes  \n",
       "\n",
       "[10809 rows x 14 columns]"
      ]
     },
     "execution_count": 24,
     "metadata": {},
     "output_type": "execute_result"
    }
   ],
   "source": [
    "#create new dataframe that contian the scholarship patients\n",
    "df_sch = df[df['scholarship'] == 1]\n",
    "df_sch"
   ]
  },
  {
   "cell_type": "code",
   "execution_count": 25,
   "id": "3ba4e65a",
   "metadata": {},
   "outputs": [
    {
     "data": {
      "text/plain": [
       "No     8238\n",
       "Yes    2571\n",
       "Name: no_show, dtype: int64"
      ]
     },
     "execution_count": 25,
     "metadata": {},
     "output_type": "execute_result"
    }
   ],
   "source": [
    "# print number of patient that go to hospital from scholarship patients\n",
    "df_sch['no_show'].value_counts()"
   ]
  },
  {
   "cell_type": "markdown",
   "id": "79e1422d",
   "metadata": {},
   "source": [
    "Patients that scholarship and show up more than No show"
   ]
  },
  {
   "cell_type": "code",
   "execution_count": 55,
   "id": "cfc2869c",
   "metadata": {},
   "outputs": [
    {
     "data": {
      "image/png": "[encoded data removed]",
      "text/plain": [
       "<Figure size 432x288 with 1 Axes>"
      ]
     },
     "metadata": {
      "needs_background": "light"
     },
     "output_type": "display_data"
    }
   ],
   "source": [
    "# plot chart that describe the percentage of patient that show up and scholarship\n",
    "high = df_sch['no_show'].value_counts(normalize = True).mul(100)\n",
    "label = ['No' , 'Yes']\n",
    "plt.bar(x = label, height= high)\n",
    "plt.title('Patients that attend the examination')\n",
    "plt.xlabel('Patient attendance')\n",
    "plt.ylabel('count of patients');"
   ]
  },
  {
   "cell_type": "markdown",
   "id": "5fcd29ea",
   "metadata": {},
   "source": [
    "I plot this chart to show number patient that attend to show.         \n",
    "The percentage of patients that scholarship and show up more than No show"
   ]
  },
  {
   "cell_type": "code",
   "execution_count": 27,
   "id": "88f632dc",
   "metadata": {},
   "outputs": [
    {
     "data": {
      "text/plain": [
       "F    8826\n",
       "M    1983\n",
       "Name: gender, dtype: int64"
      ]
     },
     "execution_count": 27,
     "metadata": {},
     "output_type": "execute_result"
    }
   ],
   "source": [
    "df_sch['gender'].value_counts()"
   ]
  },
  {
   "cell_type": "markdown",
   "id": "3a92b937",
   "metadata": {},
   "source": [
    "Females that scholarship more than Males."
   ]
  },
  {
   "cell_type": "code",
   "execution_count": 28,
   "id": "b8fbf709",
   "metadata": {},
   "outputs": [
    {
     "data": {
      "image/png": "[encoded data removed]",
      "text/plain": [
       "<Figure size 432x288 with 1 Axes>"
      ]
     },
     "metadata": {},
     "output_type": "display_data"
    }
   ],
   "source": [
    "plt.pie(x = df_sch['gender'].value_counts(), labels=  ['F','M'] , autopct='%1.2f%%')\n",
    "plt.title('Percentage of gender that Scholoarship');"
   ]
  },
  {
   "cell_type": "markdown",
   "id": "fd96d0f7",
   "metadata": {},
   "source": [
    "The percentage of Females that scholarship more than Males."
   ]
  },
  {
   "cell_type": "code",
   "execution_count": 29,
   "id": "81417d69",
   "metadata": {},
   "outputs": [
    {
     "data": {
      "text/plain": [
       "0    88804\n",
       "1     7374\n",
       "Name: diabetes, dtype: int64"
      ]
     },
     "execution_count": 29,
     "metadata": {},
     "output_type": "execute_result"
    }
   ],
   "source": [
    "# print number of patient that suffer from diabetes and has not scholarship\n",
    "df[df['scholarship'] == 0]['diabetes'].value_counts()"
   ]
  },
  {
   "cell_type": "markdown",
   "id": "e2ff7cad",
   "metadata": {},
   "source": [
    "The patients that not scholarship and have diabetes more than patients have not diabetes."
   ]
  },
  {
   "cell_type": "markdown",
   "id": "3bc6a777",
   "metadata": {},
   "source": [
    "Q: Is there a relationship between diabetes and alcoholism ?"
   ]
  },
  {
   "cell_type": "code",
   "execution_count": 30,
   "id": "9279e88d",
   "metadata": {},
   "outputs": [
    {
     "data": {
      "text/plain": [
       "0.0988095238095238"
      ]
     },
     "execution_count": 30,
     "metadata": {},
     "output_type": "execute_result"
    }
   ],
   "source": [
    "# prnit the average of diabetes patients and drink alcohol\n",
    "df[df['alcoholism'] == 1]['diabetes'].mean()"
   ]
  },
  {
   "cell_type": "markdown",
   "id": "912b22e3",
   "metadata": {},
   "source": [
    "The average of patients that are alcoholism and have diabetes not heigh."
   ]
  },
  {
   "cell_type": "code",
   "execution_count": 31,
   "id": "7fa1fe21",
   "metadata": {},
   "outputs": [
    {
     "data": {
      "text/plain": [
       "0    3028\n",
       "1     332\n",
       "Name: diabetes, dtype: int64"
      ]
     },
     "execution_count": 31,
     "metadata": {},
     "output_type": "execute_result"
    }
   ],
   "source": [
    "#print number of patients that drink alcohol and suffer from diabetes\n",
    "df[df['alcoholism'] == 1]['diabetes'].value_counts()"
   ]
  },
  {
   "cell_type": "markdown",
   "id": "5706a58a",
   "metadata": {},
   "source": [
    "Patients that are alcoholism and not have diabetes more than patients have diabetes.          \n",
    "This tell us that alcoholism have not strong effect for diabetes."
   ]
  },
  {
   "cell_type": "code",
   "execution_count": 32,
   "id": "e1a0d38e",
   "metadata": {},
   "outputs": [
    {
     "data": {
      "image/png": "[encoded data removed]",
      "text/plain": [
       "<Figure size 432x288 with 1 Axes>"
      ]
     },
     "metadata": {},
     "output_type": "display_data"
    }
   ],
   "source": [
    "# This function use to print pie for any column in datafram\n",
    "def pie_chart(dataframe, colname):\n",
    "    '''This function take 2 arguments\n",
    "         dataframe : dataframe name\n",
    "         colname : column name that you want to bar diagram\n",
    "         '''\n",
    "   \n",
    "    plt.pie(dataframe[colname].value_counts(), autopct='%1.2f%%', labels= dataframe[colname].value_counts().index)\n",
    "    plt.title('The percentage of {} '.format(colname))\n",
    "    \n",
    "#call function to excute\n",
    "pie_chart(df, 'gender')"
   ]
  },
  {
   "cell_type": "markdown",
   "id": "e0906c68",
   "metadata": {},
   "source": [
    "This pie chart show that percentage of females more than Males"
   ]
  },
  {
   "cell_type": "markdown",
   "id": "2cab3958",
   "metadata": {},
   "source": [
    "## What factors are important for us to know in order to predict if a patient will show up for their scheduled appointment?"
   ]
  },
  {
   "cell_type": "code",
   "execution_count": 33,
   "id": "270b1bd7",
   "metadata": {},
   "outputs": [],
   "source": [
    "# Create new column wait that contain the difference between appointment day and scheduled day and convert it to int\n",
    "df['wait'] = df['appointment_day'].dt.date - df['scheduled_day'].dt.date\n",
    "#convert datetime to string\n",
    "df['wait'] = df['wait'].astype(str)\n",
    "# extract int number from string\n",
    "df['wait'] = df['wait'].str.extract('(\\d+)')\n",
    "# convert it to int\n",
    "df['wait'] = df['wait'].astype(int)"
   ]
  },
  {
   "cell_type": "code",
   "execution_count": 34,
   "id": "ba38abc2",
   "metadata": {},
   "outputs": [
    {
     "data": {
      "text/html": [
       "<div>\n",
       "<style scoped>\n",
       "    .dataframe tbody tr th:only-of-type {\n",
       "        vertical-align: middle;\n",
       "    }\n",
       "\n",
       "    .dataframe tbody tr th {\n",
       "        vertical-align: top;\n",
       "    }\n",
       "\n",
       "    .dataframe thead th {\n",
       "        text-align: right;\n",
       "    }\n",
       "</style>\n",
       "<table border=\"1\" class=\"dataframe\">\n",
       "  <thead>\n",
       "    <tr style=\"text-align: right;\">\n",
       "      <th></th>\n",
       "      <th>patient_id</th>\n",
       "      <th>appointment_id</th>\n",
       "      <th>gender</th>\n",
       "      <th>scheduled_day</th>\n",
       "      <th>appointment_day</th>\n",
       "      <th>age</th>\n",
       "      <th>neighbourhood</th>\n",
       "      <th>scholarship</th>\n",
       "      <th>hipertension</th>\n",
       "      <th>diabetes</th>\n",
       "      <th>alcoholism</th>\n",
       "      <th>handcap</th>\n",
       "      <th>sms_received</th>\n",
       "      <th>no_show</th>\n",
       "      <th>wait</th>\n",
       "    </tr>\n",
       "  </thead>\n",
       "  <tbody>\n",
       "    <tr>\n",
       "      <th>0</th>\n",
       "      <td>2.987250e+13</td>\n",
       "      <td>5642903</td>\n",
       "      <td>F</td>\n",
       "      <td>2016-04-29 18:38:08+00:00</td>\n",
       "      <td>2016-04-29 00:00:00+00:00</td>\n",
       "      <td>62</td>\n",
       "      <td>JARDIM DA PENHA</td>\n",
       "      <td>0</td>\n",
       "      <td>1</td>\n",
       "      <td>0</td>\n",
       "      <td>0</td>\n",
       "      <td>0</td>\n",
       "      <td>0</td>\n",
       "      <td>No</td>\n",
       "      <td>0</td>\n",
       "    </tr>\n",
       "    <tr>\n",
       "      <th>1</th>\n",
       "      <td>5.589978e+14</td>\n",
       "      <td>5642503</td>\n",
       "      <td>M</td>\n",
       "      <td>2016-04-29 16:08:27+00:00</td>\n",
       "      <td>2016-04-29 00:00:00+00:00</td>\n",
       "      <td>56</td>\n",
       "      <td>JARDIM DA PENHA</td>\n",
       "      <td>0</td>\n",
       "      <td>0</td>\n",
       "      <td>0</td>\n",
       "      <td>0</td>\n",
       "      <td>0</td>\n",
       "      <td>0</td>\n",
       "      <td>No</td>\n",
       "      <td>0</td>\n",
       "    </tr>\n",
       "    <tr>\n",
       "      <th>2</th>\n",
       "      <td>4.262962e+12</td>\n",
       "      <td>5642549</td>\n",
       "      <td>F</td>\n",
       "      <td>2016-04-29 16:19:04+00:00</td>\n",
       "      <td>2016-04-29 00:00:00+00:00</td>\n",
       "      <td>62</td>\n",
       "      <td>MATA DA PRAIA</td>\n",
       "      <td>0</td>\n",
       "      <td>0</td>\n",
       "      <td>0</td>\n",
       "      <td>0</td>\n",
       "      <td>0</td>\n",
       "      <td>0</td>\n",
       "      <td>No</td>\n",
       "      <td>0</td>\n",
       "    </tr>\n",
       "    <tr>\n",
       "      <th>3</th>\n",
       "      <td>8.679512e+11</td>\n",
       "      <td>5642828</td>\n",
       "      <td>F</td>\n",
       "      <td>2016-04-29 17:29:31+00:00</td>\n",
       "      <td>2016-04-29 00:00:00+00:00</td>\n",
       "      <td>8</td>\n",
       "      <td>PONTAL DE CAMBURI</td>\n",
       "      <td>0</td>\n",
       "      <td>0</td>\n",
       "      <td>0</td>\n",
       "      <td>0</td>\n",
       "      <td>0</td>\n",
       "      <td>0</td>\n",
       "      <td>No</td>\n",
       "      <td>0</td>\n",
       "    </tr>\n",
       "    <tr>\n",
       "      <th>4</th>\n",
       "      <td>8.841186e+12</td>\n",
       "      <td>5642494</td>\n",
       "      <td>F</td>\n",
       "      <td>2016-04-29 16:07:23+00:00</td>\n",
       "      <td>2016-04-29 00:00:00+00:00</td>\n",
       "      <td>56</td>\n",
       "      <td>JARDIM DA PENHA</td>\n",
       "      <td>0</td>\n",
       "      <td>1</td>\n",
       "      <td>1</td>\n",
       "      <td>0</td>\n",
       "      <td>0</td>\n",
       "      <td>0</td>\n",
       "      <td>No</td>\n",
       "      <td>0</td>\n",
       "    </tr>\n",
       "    <tr>\n",
       "      <th>...</th>\n",
       "      <td>...</td>\n",
       "      <td>...</td>\n",
       "      <td>...</td>\n",
       "      <td>...</td>\n",
       "      <td>...</td>\n",
       "      <td>...</td>\n",
       "      <td>...</td>\n",
       "      <td>...</td>\n",
       "      <td>...</td>\n",
       "      <td>...</td>\n",
       "      <td>...</td>\n",
       "      <td>...</td>\n",
       "      <td>...</td>\n",
       "      <td>...</td>\n",
       "      <td>...</td>\n",
       "    </tr>\n",
       "    <tr>\n",
       "      <th>110522</th>\n",
       "      <td>2.572134e+12</td>\n",
       "      <td>5651768</td>\n",
       "      <td>F</td>\n",
       "      <td>2016-05-03 09:15:35+00:00</td>\n",
       "      <td>2016-06-07 00:00:00+00:00</td>\n",
       "      <td>56</td>\n",
       "      <td>MARIA ORTIZ</td>\n",
       "      <td>0</td>\n",
       "      <td>0</td>\n",
       "      <td>0</td>\n",
       "      <td>0</td>\n",
       "      <td>0</td>\n",
       "      <td>1</td>\n",
       "      <td>No</td>\n",
       "      <td>35</td>\n",
       "    </tr>\n",
       "    <tr>\n",
       "      <th>110523</th>\n",
       "      <td>3.596266e+12</td>\n",
       "      <td>5650093</td>\n",
       "      <td>F</td>\n",
       "      <td>2016-05-03 07:27:33+00:00</td>\n",
       "      <td>2016-06-07 00:00:00+00:00</td>\n",
       "      <td>51</td>\n",
       "      <td>MARIA ORTIZ</td>\n",
       "      <td>0</td>\n",
       "      <td>0</td>\n",
       "      <td>0</td>\n",
       "      <td>0</td>\n",
       "      <td>0</td>\n",
       "      <td>1</td>\n",
       "      <td>No</td>\n",
       "      <td>35</td>\n",
       "    </tr>\n",
       "    <tr>\n",
       "      <th>110524</th>\n",
       "      <td>1.557663e+13</td>\n",
       "      <td>5630692</td>\n",
       "      <td>F</td>\n",
       "      <td>2016-04-27 16:03:52+00:00</td>\n",
       "      <td>2016-06-07 00:00:00+00:00</td>\n",
       "      <td>21</td>\n",
       "      <td>MARIA ORTIZ</td>\n",
       "      <td>0</td>\n",
       "      <td>0</td>\n",
       "      <td>0</td>\n",
       "      <td>0</td>\n",
       "      <td>0</td>\n",
       "      <td>1</td>\n",
       "      <td>No</td>\n",
       "      <td>41</td>\n",
       "    </tr>\n",
       "    <tr>\n",
       "      <th>110525</th>\n",
       "      <td>9.213493e+13</td>\n",
       "      <td>5630323</td>\n",
       "      <td>F</td>\n",
       "      <td>2016-04-27 15:09:23+00:00</td>\n",
       "      <td>2016-06-07 00:00:00+00:00</td>\n",
       "      <td>38</td>\n",
       "      <td>MARIA ORTIZ</td>\n",
       "      <td>0</td>\n",
       "      <td>0</td>\n",
       "      <td>0</td>\n",
       "      <td>0</td>\n",
       "      <td>0</td>\n",
       "      <td>1</td>\n",
       "      <td>No</td>\n",
       "      <td>41</td>\n",
       "    </tr>\n",
       "    <tr>\n",
       "      <th>110526</th>\n",
       "      <td>3.775115e+14</td>\n",
       "      <td>5629448</td>\n",
       "      <td>F</td>\n",
       "      <td>2016-04-27 13:30:56+00:00</td>\n",
       "      <td>2016-06-07 00:00:00+00:00</td>\n",
       "      <td>54</td>\n",
       "      <td>MARIA ORTIZ</td>\n",
       "      <td>0</td>\n",
       "      <td>0</td>\n",
       "      <td>0</td>\n",
       "      <td>0</td>\n",
       "      <td>0</td>\n",
       "      <td>1</td>\n",
       "      <td>No</td>\n",
       "      <td>41</td>\n",
       "    </tr>\n",
       "  </tbody>\n",
       "</table>\n",
       "<p>106987 rows × 15 columns</p>\n",
       "</div>"
      ],
      "text/plain": [
       "          patient_id  appointment_id gender             scheduled_day  \\\n",
       "0       2.987250e+13         5642903      F 2016-04-29 18:38:08+00:00   \n",
       "1       5.589978e+14         5642503      M 2016-04-29 16:08:27+00:00   \n",
       "2       4.262962e+12         5642549      F 2016-04-29 16:19:04+00:00   \n",
       "3       8.679512e+11         5642828      F 2016-04-29 17:29:31+00:00   \n",
       "4       8.841186e+12         5642494      F 2016-04-29 16:07:23+00:00   \n",
       "...              ...             ...    ...                       ...   \n",
       "110522  2.572134e+12         5651768      F 2016-05-03 09:15:35+00:00   \n",
       "110523  3.596266e+12         5650093      F 2016-05-03 07:27:33+00:00   \n",
       "110524  1.557663e+13         5630692      F 2016-04-27 16:03:52+00:00   \n",
       "110525  9.213493e+13         5630323      F 2016-04-27 15:09:23+00:00   \n",
       "110526  3.775115e+14         5629448      F 2016-04-27 13:30:56+00:00   \n",
       "\n",
       "                 appointment_day  age      neighbourhood  scholarship  \\\n",
       "0      2016-04-29 00:00:00+00:00   62    JARDIM DA PENHA            0   \n",
       "1      2016-04-29 00:00:00+00:00   56    JARDIM DA PENHA            0   \n",
       "2      2016-04-29 00:00:00+00:00   62      MATA DA PRAIA            0   \n",
       "3      2016-04-29 00:00:00+00:00    8  PONTAL DE CAMBURI            0   \n",
       "4      2016-04-29 00:00:00+00:00   56    JARDIM DA PENHA            0   \n",
       "...                          ...  ...                ...          ...   \n",
       "110522 2016-06-07 00:00:00+00:00   56        MARIA ORTIZ            0   \n",
       "110523 2016-06-07 00:00:00+00:00   51        MARIA ORTIZ            0   \n",
       "110524 2016-06-07 00:00:00+00:00   21        MARIA ORTIZ            0   \n",
       "110525 2016-06-07 00:00:00+00:00   38        MARIA ORTIZ            0   \n",
       "110526 2016-06-07 00:00:00+00:00   54        MARIA ORTIZ            0   \n",
       "\n",
       "        hipertension  diabetes  alcoholism  handcap  sms_received no_show  \\\n",
       "0                  1         0           0        0             0      No   \n",
       "1                  0         0           0        0             0      No   \n",
       "2                  0         0           0        0             0      No   \n",
       "3                  0         0           0        0             0      No   \n",
       "4                  1         1           0        0             0      No   \n",
       "...              ...       ...         ...      ...           ...     ...   \n",
       "110522             0         0           0        0             1      No   \n",
       "110523             0         0           0        0             1      No   \n",
       "110524             0         0           0        0             1      No   \n",
       "110525             0         0           0        0             1      No   \n",
       "110526             0         0           0        0             1      No   \n",
       "\n",
       "        wait  \n",
       "0          0  \n",
       "1          0  \n",
       "2          0  \n",
       "3          0  \n",
       "4          0  \n",
       "...      ...  \n",
       "110522    35  \n",
       "110523    35  \n",
       "110524    41  \n",
       "110525    41  \n",
       "110526    41  \n",
       "\n",
       "[106987 rows x 15 columns]"
      ]
     },
     "execution_count": 34,
     "metadata": {},
     "output_type": "execute_result"
    }
   ],
   "source": [
    "df"
   ]
  },
  {
   "cell_type": "code",
   "execution_count": 35,
   "id": "1034cb94",
   "metadata": {},
   "outputs": [
    {
     "data": {
      "text/plain": [
       "0    72402\n",
       "1    34585\n",
       "Name: sms_received, dtype: int64"
      ]
     },
     "execution_count": 35,
     "metadata": {},
     "output_type": "execute_result"
    }
   ],
   "source": [
    "df['sms_received'].value_counts()"
   ]
  },
  {
   "cell_type": "code",
   "execution_count": 36,
   "id": "a8660163",
   "metadata": {},
   "outputs": [],
   "source": [
    "# create new dataset that contian wait column equal 0\n",
    "adb = df[df['wait'] == 0]"
   ]
  },
  {
   "cell_type": "code",
   "execution_count": 37,
   "id": "7fc4fbef",
   "metadata": {},
   "outputs": [
    {
     "data": {
      "text/plain": [
       "0    37154\n",
       "Name: sms_received, dtype: int64"
      ]
     },
     "execution_count": 37,
     "metadata": {},
     "output_type": "execute_result"
    }
   ],
   "source": [
    "adb['sms_received'].value_counts()"
   ]
  },
  {
   "cell_type": "code",
   "execution_count": 38,
   "id": "f87e7fb4",
   "metadata": {},
   "outputs": [
    {
     "data": {
      "text/plain": [
       "0    35248.0\n",
       "1        NaN\n",
       "Name: sms_received, dtype: float64"
      ]
     },
     "execution_count": 38,
     "metadata": {},
     "output_type": "execute_result"
    }
   ],
   "source": [
    "df['sms_received'].value_counts() - adb['sms_received'].value_counts()"
   ]
  },
  {
   "cell_type": "markdown",
   "id": "971ea4f9",
   "metadata": {},
   "source": [
    "# Conclusion \n",
    "1- I used No show appointment database.         \n",
    "2- I import the packages and load the database.                \n",
    "3- I discaver the data , clean it and convert columns data type to correct data type to be easy to use.         \n",
    "4- I started to plot diagrams to discover the relations between columns         \n",
    "5- Many questions appear and i started to answer them                    \n",
    "6- the important questions is What factors are important for us to know in order to predict if a patient will show up for their scheduled appointment?                  \n",
    "7- I discaverd that the factor is sms_received (All patients that wait value equal 0 not receive sms).\n",
    "8- I found that females have diabetes more than males.         \n",
    "9- I found that Males drink alcohol more than Females.               \n",
    "10- I found that drinking kohl is not always accompanied by diabetes."
   ]
  },
  {
   "cell_type": "markdown",
   "id": "17e7252c",
   "metadata": {},
   "source": [
    "# Limitation \n",
    "Females have diseases more than Males.                    \n",
    "Males alcoholism more than Females.                  \n",
    "All patients that not receive sms show up at same day of scheduled day."
   ]
  }
 ],
 "metadata": {
  "kernelspec": {
   "display_name": "Python 3",
   "language": "python",
   "name": "python3"
  },
  "language_info": {
   "codemirror_mode": {
    "name": "ipython",
    "version": 3
   },
   "file_extension": ".py",
   "mimetype": "text/x-python",
   "name": "python",
   "nbconvert_exporter": "python",
   "pygments_lexer": "ipython3",
   "version": "3.8.8"
  }
 },
 "nbformat": 4,
 "nbformat_minor": 5
}
